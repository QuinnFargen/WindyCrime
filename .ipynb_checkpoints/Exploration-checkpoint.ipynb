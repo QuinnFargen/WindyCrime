{
 "cells": [
  {
   "cell_type": "markdown",
   "metadata": {},
   "source": [
    "### Windy Crimes"
   ]
  },
  {
   "cell_type": "markdown",
   "metadata": {},
   "source": [
    "#### Chicago Crime Analysis\n",
    "Documented Crimes in Chicago from 2001-2020 <br>\n",
    "Code and Sources References in Repo here: <br>\n",
    "https://github.com/QuinnFargen/WindyCrime"
   ]
  },
  {
   "cell_type": "markdown",
   "metadata": {},
   "source": [
    "##### Libraries"
   ]
  },
  {
   "cell_type": "code",
   "execution_count": 6,
   "metadata": {},
   "outputs": [],
   "source": [
    "import os\n",
    "import pandas as pd\n",
    "import numpy as np\n",
    "import seaborn as sns\n",
    "import matplotlib.pyplot as plt\n",
    "%matplotlib inline"
   ]
  },
  {
   "cell_type": "markdown",
   "metadata": {},
   "source": [
    "##### Datas"
   ]
  },
  {
   "cell_type": "code",
   "execution_count": null,
   "metadata": {},
   "outputs": [],
   "source": [
    "#Directory\n",
    "os.getcwd()\n",
    "os.chdir(\"/Users/quinnfargen/Desktop/WindyCrimeData\")\n",
    "os.getcwd()\n",
    "\n",
    "#Crime Data\n",
    "Crimes = pd.read_csv(\"CrimeClean.txt\")\n",
    "\n",
    "### ID Type Data Labels\n",
    "Desc = pd.read_csv(\"Desc.txt\")\n",
    "# LocDesc = pd.read_csv(\"LocDesc.txt\")\n",
    "# PrimType = pd.read_csv(\"PrimType.txt\")\n",
    "\n",
    "#Weather Data\n",
    "Weather = pd.read_csv(\"Weather.txt\")"
   ]
  },
  {
   "cell_type": "code",
   "execution_count": null,
   "metadata": {},
   "outputs": [],
   "source": []
  },
  {
   "cell_type": "code",
   "execution_count": 17,
   "metadata": {},
   "outputs": [
    {
     "name": "stdout",
     "output_type": "stream",
     "text": [
      "ID              int64\n",
      "CaseNo         object\n",
      "CrimeDt        object\n",
      "UpdateDt       object\n",
      "Block          object\n",
      "PrimTypeID      int64\n",
      "DescID          int64\n",
      "LocDescID       int64\n",
      "Arrest          int64\n",
      "Domestic        int64\n",
      "IUCR           object\n",
      "Beat            int64\n",
      "District      float64\n",
      "Ward          float64\n",
      "CommArea      float64\n",
      "FBICode        object\n",
      "dtype: object\n"
     ]
    },
    {
     "data": {
      "text/html": [
       "<div>\n",
       "<style scoped>\n",
       "    .dataframe tbody tr th:only-of-type {\n",
       "        vertical-align: middle;\n",
       "    }\n",
       "\n",
       "    .dataframe tbody tr th {\n",
       "        vertical-align: top;\n",
       "    }\n",
       "\n",
       "    .dataframe thead th {\n",
       "        text-align: right;\n",
       "    }\n",
       "</style>\n",
       "<table border=\"1\" class=\"dataframe\">\n",
       "  <thead>\n",
       "    <tr style=\"text-align: right;\">\n",
       "      <th></th>\n",
       "      <th>ID</th>\n",
       "      <th>CaseNo</th>\n",
       "      <th>CrimeDt</th>\n",
       "      <th>UpdateDt</th>\n",
       "      <th>Block</th>\n",
       "      <th>PrimTypeID</th>\n",
       "      <th>DescID</th>\n",
       "      <th>LocDescID</th>\n",
       "      <th>Arrest</th>\n",
       "      <th>Domestic</th>\n",
       "      <th>IUCR</th>\n",
       "      <th>Beat</th>\n",
       "      <th>District</th>\n",
       "      <th>Ward</th>\n",
       "      <th>CommArea</th>\n",
       "      <th>FBICode</th>\n",
       "    </tr>\n",
       "  </thead>\n",
       "  <tbody>\n",
       "    <tr>\n",
       "      <th>0</th>\n",
       "      <td>10254322</td>\n",
       "      <td>HY441989</td>\n",
       "      <td>2015-09-28 17:00:00</td>\n",
       "      <td>2018-02-10 15:50:01</td>\n",
       "      <td>043XX W MADISON ST</td>\n",
       "      <td>2</td>\n",
       "      <td>1</td>\n",
       "      <td>31</td>\n",
       "      <td>0</td>\n",
       "      <td>0</td>\n",
       "      <td>0460</td>\n",
       "      <td>1115</td>\n",
       "      <td>11.0</td>\n",
       "      <td>28.0</td>\n",
       "      <td>26.0</td>\n",
       "      <td>08B</td>\n",
       "    </tr>\n",
       "    <tr>\n",
       "      <th>1</th>\n",
       "      <td>10392643</td>\n",
       "      <td>HZ129067</td>\n",
       "      <td>2016-01-25 23:00:00</td>\n",
       "      <td>2018-02-10 15:50:01</td>\n",
       "      <td>003XX E PERSHING RD</td>\n",
       "      <td>7</td>\n",
       "      <td>8</td>\n",
       "      <td>12</td>\n",
       "      <td>0</td>\n",
       "      <td>0</td>\n",
       "      <td>0610</td>\n",
       "      <td>212</td>\n",
       "      <td>2.0</td>\n",
       "      <td>3.0</td>\n",
       "      <td>35.0</td>\n",
       "      <td>05</td>\n",
       "    </tr>\n",
       "    <tr>\n",
       "      <th>2</th>\n",
       "      <td>10392801</td>\n",
       "      <td>HZ117051</td>\n",
       "      <td>2016-01-15 19:03:00</td>\n",
       "      <td>2018-02-10 15:50:01</td>\n",
       "      <td>054XX S HALSTED ST</td>\n",
       "      <td>4</td>\n",
       "      <td>43</td>\n",
       "      <td>12</td>\n",
       "      <td>1</td>\n",
       "      <td>0</td>\n",
       "      <td>2017</td>\n",
       "      <td>934</td>\n",
       "      <td>9.0</td>\n",
       "      <td>20.0</td>\n",
       "      <td>61.0</td>\n",
       "      <td>18</td>\n",
       "    </tr>\n",
       "    <tr>\n",
       "      <th>3</th>\n",
       "      <td>10392876</td>\n",
       "      <td>HZ129370</td>\n",
       "      <td>2016-01-26 12:30:00</td>\n",
       "      <td>2018-02-10 15:50:01</td>\n",
       "      <td>001XX S MICHIGAN AVE</td>\n",
       "      <td>1</td>\n",
       "      <td>10</td>\n",
       "      <td>12</td>\n",
       "      <td>0</td>\n",
       "      <td>0</td>\n",
       "      <td>0890</td>\n",
       "      <td>112</td>\n",
       "      <td>1.0</td>\n",
       "      <td>42.0</td>\n",
       "      <td>32.0</td>\n",
       "      <td>06</td>\n",
       "    </tr>\n",
       "    <tr>\n",
       "      <th>4</th>\n",
       "      <td>10392884</td>\n",
       "      <td>HZ129345</td>\n",
       "      <td>2016-01-26 01:00:00</td>\n",
       "      <td>2018-02-10 15:50:01</td>\n",
       "      <td>015XX W DEVON AVE</td>\n",
       "      <td>7</td>\n",
       "      <td>8</td>\n",
       "      <td>12</td>\n",
       "      <td>0</td>\n",
       "      <td>0</td>\n",
       "      <td>0610</td>\n",
       "      <td>2433</td>\n",
       "      <td>24.0</td>\n",
       "      <td>40.0</td>\n",
       "      <td>77.0</td>\n",
       "      <td>05</td>\n",
       "    </tr>\n",
       "  </tbody>\n",
       "</table>\n",
       "</div>"
      ],
      "text/plain": [
       "         ID    CaseNo              CrimeDt             UpdateDt  \\\n",
       "0  10254322  HY441989  2015-09-28 17:00:00  2018-02-10 15:50:01   \n",
       "1  10392643  HZ129067  2016-01-25 23:00:00  2018-02-10 15:50:01   \n",
       "2  10392801  HZ117051  2016-01-15 19:03:00  2018-02-10 15:50:01   \n",
       "3  10392876  HZ129370  2016-01-26 12:30:00  2018-02-10 15:50:01   \n",
       "4  10392884  HZ129345  2016-01-26 01:00:00  2018-02-10 15:50:01   \n",
       "\n",
       "                  Block  PrimTypeID  DescID  LocDescID  Arrest  Domestic  \\\n",
       "0    043XX W MADISON ST           2       1         31       0         0   \n",
       "1   003XX E PERSHING RD           7       8         12       0         0   \n",
       "2    054XX S HALSTED ST           4      43         12       1         0   \n",
       "3  001XX S MICHIGAN AVE           1      10         12       0         0   \n",
       "4     015XX W DEVON AVE           7       8         12       0         0   \n",
       "\n",
       "   IUCR  Beat  District  Ward  CommArea FBICode  \n",
       "0  0460  1115      11.0  28.0      26.0     08B  \n",
       "1  0610   212       2.0   3.0      35.0      05  \n",
       "2  2017   934       9.0  20.0      61.0      18  \n",
       "3  0890   112       1.0  42.0      32.0      06  \n",
       "4  0610  2433      24.0  40.0      77.0      05  "
      ]
     },
     "execution_count": 17,
     "metadata": {},
     "output_type": "execute_result"
    }
   ],
   "source": [
    "print(Crimes.dtypes)\n",
    "Crimes.head()"
   ]
  },
  {
   "cell_type": "code",
   "execution_count": null,
   "metadata": {},
   "outputs": [],
   "source": [
    "print(Weather.dtypes)\n",
    "Weather.head()"
   ]
  },
  {
   "cell_type": "code",
   "execution_count": null,
   "metadata": {},
   "outputs": [],
   "source": []
  },
  {
   "cell_type": "code",
   "execution_count": null,
   "metadata": {},
   "outputs": [],
   "source": []
  },
  {
   "cell_type": "code",
   "execution_count": null,
   "metadata": {},
   "outputs": [],
   "source": []
  },
  {
   "cell_type": "code",
   "execution_count": null,
   "metadata": {},
   "outputs": [],
   "source": []
  }
 ],
 "metadata": {
  "kernelspec": {
   "display_name": "Python 3",
   "language": "python",
   "name": "python3"
  },
  "language_info": {
   "codemirror_mode": {
    "name": "ipython",
    "version": 3
   },
   "file_extension": ".py",
   "mimetype": "text/x-python",
   "name": "python",
   "nbconvert_exporter": "python",
   "pygments_lexer": "ipython3",
   "version": "3.8.5"
  }
 },
 "nbformat": 4,
 "nbformat_minor": 4
}
